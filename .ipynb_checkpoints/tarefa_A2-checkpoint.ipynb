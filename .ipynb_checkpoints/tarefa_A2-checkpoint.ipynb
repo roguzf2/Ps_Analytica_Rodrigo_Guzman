{
 "cells": [
  {
   "cell_type": "code",
   "execution_count": 238,
   "id": "bdd769d9",
   "metadata": {},
   "outputs": [],
   "source": [
    "import pandas as pd\n",
    "import matplotlib as matplot\n",
    "%matplotlib inline\n",
    "\n",
    "DF_ORIGINAL = pd.read_csv('municipio_tipo.csv')\n",
    "DF_2 = pd.read_csv('tempo_deslocamento_casa_trabalho.csv')\n",
    "DF_3 = pd.read_csv('estatisticas_2019.csv')\n",
    "\n",
    "#Dados da dataframe original de municipio_tipo para ser somente de 2010\n",
    "DF_2010 = DF_ORIGINAL[(DF_ORIGINAL['ano']== 2010)]\n",
    "\n",
    "# Unindo as tabelas em um dataframe utilizando o método merge e os campos id_municipio'\n",
    "DF = DF_2010.merge(DF_2, left_on='id_municipio', right_on='id_municipio')"
   ]
  },
  {
   "cell_type": "markdown",
   "id": "bd5bb588",
   "metadata": {},
   "source": [
    "Os Dados foram recortados para 2010 para haver uma análise mais precisa, baseando-se nos datasets escolhidos"
   ]
  },
  {
   "cell_type": "markdown",
   "id": "fab985da",
   "metadata": {},
   "source": [
    "# 1.0 Avaliando os tipos de dados da dataframe principal"
   ]
  },
  {
   "cell_type": "code",
   "execution_count": 170,
   "id": "8463b2e7",
   "metadata": {},
   "outputs": [
    {
     "data": {
      "text/plain": [
       "sigla_uf_x                         object\n",
       "id_municipio                        int64\n",
       "ano_x                               int64\n",
       "mes                                 int64\n",
       "automovel                           int64\n",
       "bonde                               int64\n",
       "caminhao                            int64\n",
       "caminhaotrator                      int64\n",
       "caminhonete                         int64\n",
       "camioneta                           int64\n",
       "ciclomotor                          int64\n",
       "microonibus                         int64\n",
       "motocicleta                         int64\n",
       "motoneta                            int64\n",
       "onibus                              int64\n",
       "quadriciclo                         int64\n",
       "reboque                             int64\n",
       "semireboque                         int64\n",
       "sidecar                             int64\n",
       "outros                              int64\n",
       "tratoresteira                       int64\n",
       "tratorrodas                         int64\n",
       "triciclo                            int64\n",
       "utilitario                          int64\n",
       "chassiplataforma                    int64\n",
       "total                               int64\n",
       "ano_y                               int64\n",
       "sigla_uf_y                         object\n",
       "tempo_medio_deslocamento            int64\n",
       "prop_deslocamento_acima_1_hora    float64\n",
       "dtype: object"
      ]
     },
     "execution_count": 170,
     "metadata": {},
     "output_type": "execute_result"
    }
   ],
   "source": [
    "# tipos de dados do Data frame pós merge:\n",
    "DF.dtypes"
   ]
  },
  {
   "cell_type": "code",
   "execution_count": 171,
   "id": "5ec955d5",
   "metadata": {
    "scrolled": true
   },
   "outputs": [
    {
     "data": {
      "text/html": [
       "<div>\n",
       "<style scoped>\n",
       "    .dataframe tbody tr th:only-of-type {\n",
       "        vertical-align: middle;\n",
       "    }\n",
       "\n",
       "    .dataframe tbody tr th {\n",
       "        vertical-align: top;\n",
       "    }\n",
       "\n",
       "    .dataframe thead th {\n",
       "        text-align: right;\n",
       "    }\n",
       "</style>\n",
       "<table border=\"1\" class=\"dataframe\">\n",
       "  <thead>\n",
       "    <tr style=\"text-align: right;\">\n",
       "      <th></th>\n",
       "      <th>sigla_uf_x</th>\n",
       "      <th>id_municipio</th>\n",
       "      <th>ano_x</th>\n",
       "      <th>mes</th>\n",
       "      <th>automovel</th>\n",
       "      <th>bonde</th>\n",
       "      <th>caminhao</th>\n",
       "      <th>caminhaotrator</th>\n",
       "      <th>caminhonete</th>\n",
       "      <th>camioneta</th>\n",
       "      <th>...</th>\n",
       "      <th>tratoresteira</th>\n",
       "      <th>tratorrodas</th>\n",
       "      <th>triciclo</th>\n",
       "      <th>utilitario</th>\n",
       "      <th>chassiplataforma</th>\n",
       "      <th>total</th>\n",
       "      <th>ano_y</th>\n",
       "      <th>sigla_uf_y</th>\n",
       "      <th>tempo_medio_deslocamento</th>\n",
       "      <th>prop_deslocamento_acima_1_hora</th>\n",
       "    </tr>\n",
       "  </thead>\n",
       "  <tbody>\n",
       "    <tr>\n",
       "      <th>0</th>\n",
       "      <td>AC</td>\n",
       "      <td>1200401</td>\n",
       "      <td>2010</td>\n",
       "      <td>1</td>\n",
       "      <td>37162</td>\n",
       "      <td>0</td>\n",
       "      <td>3172</td>\n",
       "      <td>316</td>\n",
       "      <td>9431</td>\n",
       "      <td>1954</td>\n",
       "      <td>...</td>\n",
       "      <td>1</td>\n",
       "      <td>6</td>\n",
       "      <td>329</td>\n",
       "      <td>0</td>\n",
       "      <td>10</td>\n",
       "      <td>94587</td>\n",
       "      <td>2010</td>\n",
       "      <td>AC</td>\n",
       "      <td>26</td>\n",
       "      <td>5.0</td>\n",
       "    </tr>\n",
       "    <tr>\n",
       "      <th>1</th>\n",
       "      <td>AC</td>\n",
       "      <td>1200401</td>\n",
       "      <td>2010</td>\n",
       "      <td>10</td>\n",
       "      <td>40373</td>\n",
       "      <td>0</td>\n",
       "      <td>3309</td>\n",
       "      <td>338</td>\n",
       "      <td>10287</td>\n",
       "      <td>2072</td>\n",
       "      <td>...</td>\n",
       "      <td>1</td>\n",
       "      <td>35</td>\n",
       "      <td>412</td>\n",
       "      <td>0</td>\n",
       "      <td>10</td>\n",
       "      <td>104852</td>\n",
       "      <td>2010</td>\n",
       "      <td>AC</td>\n",
       "      <td>26</td>\n",
       "      <td>5.0</td>\n",
       "    </tr>\n",
       "    <tr>\n",
       "      <th>2</th>\n",
       "      <td>AC</td>\n",
       "      <td>1200401</td>\n",
       "      <td>2010</td>\n",
       "      <td>11</td>\n",
       "      <td>40857</td>\n",
       "      <td>0</td>\n",
       "      <td>3318</td>\n",
       "      <td>340</td>\n",
       "      <td>10394</td>\n",
       "      <td>2104</td>\n",
       "      <td>...</td>\n",
       "      <td>1</td>\n",
       "      <td>35</td>\n",
       "      <td>420</td>\n",
       "      <td>0</td>\n",
       "      <td>10</td>\n",
       "      <td>106155</td>\n",
       "      <td>2010</td>\n",
       "      <td>AC</td>\n",
       "      <td>26</td>\n",
       "      <td>5.0</td>\n",
       "    </tr>\n",
       "    <tr>\n",
       "      <th>3</th>\n",
       "      <td>AC</td>\n",
       "      <td>1200401</td>\n",
       "      <td>2010</td>\n",
       "      <td>12</td>\n",
       "      <td>41461</td>\n",
       "      <td>0</td>\n",
       "      <td>3343</td>\n",
       "      <td>347</td>\n",
       "      <td>10550</td>\n",
       "      <td>2133</td>\n",
       "      <td>...</td>\n",
       "      <td>1</td>\n",
       "      <td>44</td>\n",
       "      <td>439</td>\n",
       "      <td>0</td>\n",
       "      <td>10</td>\n",
       "      <td>107627</td>\n",
       "      <td>2010</td>\n",
       "      <td>AC</td>\n",
       "      <td>26</td>\n",
       "      <td>5.0</td>\n",
       "    </tr>\n",
       "    <tr>\n",
       "      <th>4</th>\n",
       "      <td>AC</td>\n",
       "      <td>1200401</td>\n",
       "      <td>2010</td>\n",
       "      <td>2</td>\n",
       "      <td>37475</td>\n",
       "      <td>0</td>\n",
       "      <td>3183</td>\n",
       "      <td>320</td>\n",
       "      <td>9515</td>\n",
       "      <td>1950</td>\n",
       "      <td>...</td>\n",
       "      <td>1</td>\n",
       "      <td>7</td>\n",
       "      <td>336</td>\n",
       "      <td>0</td>\n",
       "      <td>12</td>\n",
       "      <td>95434</td>\n",
       "      <td>2010</td>\n",
       "      <td>AC</td>\n",
       "      <td>26</td>\n",
       "      <td>5.0</td>\n",
       "    </tr>\n",
       "    <tr>\n",
       "      <th>5</th>\n",
       "      <td>AC</td>\n",
       "      <td>1200401</td>\n",
       "      <td>2010</td>\n",
       "      <td>3</td>\n",
       "      <td>38050</td>\n",
       "      <td>0</td>\n",
       "      <td>3200</td>\n",
       "      <td>324</td>\n",
       "      <td>9655</td>\n",
       "      <td>1960</td>\n",
       "      <td>...</td>\n",
       "      <td>1</td>\n",
       "      <td>9</td>\n",
       "      <td>342</td>\n",
       "      <td>0</td>\n",
       "      <td>12</td>\n",
       "      <td>96829</td>\n",
       "      <td>2010</td>\n",
       "      <td>AC</td>\n",
       "      <td>26</td>\n",
       "      <td>5.0</td>\n",
       "    </tr>\n",
       "    <tr>\n",
       "      <th>6</th>\n",
       "      <td>AC</td>\n",
       "      <td>1200401</td>\n",
       "      <td>2010</td>\n",
       "      <td>4</td>\n",
       "      <td>38375</td>\n",
       "      <td>0</td>\n",
       "      <td>3216</td>\n",
       "      <td>328</td>\n",
       "      <td>9758</td>\n",
       "      <td>1977</td>\n",
       "      <td>...</td>\n",
       "      <td>1</td>\n",
       "      <td>17</td>\n",
       "      <td>355</td>\n",
       "      <td>0</td>\n",
       "      <td>12</td>\n",
       "      <td>97883</td>\n",
       "      <td>2010</td>\n",
       "      <td>AC</td>\n",
       "      <td>26</td>\n",
       "      <td>5.0</td>\n",
       "    </tr>\n",
       "    <tr>\n",
       "      <th>7</th>\n",
       "      <td>AC</td>\n",
       "      <td>1200401</td>\n",
       "      <td>2010</td>\n",
       "      <td>5</td>\n",
       "      <td>38635</td>\n",
       "      <td>0</td>\n",
       "      <td>3234</td>\n",
       "      <td>329</td>\n",
       "      <td>9847</td>\n",
       "      <td>1995</td>\n",
       "      <td>...</td>\n",
       "      <td>1</td>\n",
       "      <td>22</td>\n",
       "      <td>371</td>\n",
       "      <td>0</td>\n",
       "      <td>12</td>\n",
       "      <td>98910</td>\n",
       "      <td>2010</td>\n",
       "      <td>AC</td>\n",
       "      <td>26</td>\n",
       "      <td>5.0</td>\n",
       "    </tr>\n",
       "    <tr>\n",
       "      <th>8</th>\n",
       "      <td>AC</td>\n",
       "      <td>1200401</td>\n",
       "      <td>2010</td>\n",
       "      <td>6</td>\n",
       "      <td>38949</td>\n",
       "      <td>0</td>\n",
       "      <td>3250</td>\n",
       "      <td>329</td>\n",
       "      <td>9937</td>\n",
       "      <td>2010</td>\n",
       "      <td>...</td>\n",
       "      <td>1</td>\n",
       "      <td>23</td>\n",
       "      <td>380</td>\n",
       "      <td>0</td>\n",
       "      <td>12</td>\n",
       "      <td>100065</td>\n",
       "      <td>2010</td>\n",
       "      <td>AC</td>\n",
       "      <td>26</td>\n",
       "      <td>5.0</td>\n",
       "    </tr>\n",
       "    <tr>\n",
       "      <th>9</th>\n",
       "      <td>AC</td>\n",
       "      <td>1200401</td>\n",
       "      <td>2010</td>\n",
       "      <td>7</td>\n",
       "      <td>39256</td>\n",
       "      <td>0</td>\n",
       "      <td>3257</td>\n",
       "      <td>331</td>\n",
       "      <td>10025</td>\n",
       "      <td>2014</td>\n",
       "      <td>...</td>\n",
       "      <td>1</td>\n",
       "      <td>26</td>\n",
       "      <td>385</td>\n",
       "      <td>0</td>\n",
       "      <td>10</td>\n",
       "      <td>101215</td>\n",
       "      <td>2010</td>\n",
       "      <td>AC</td>\n",
       "      <td>26</td>\n",
       "      <td>5.0</td>\n",
       "    </tr>\n",
       "  </tbody>\n",
       "</table>\n",
       "<p>10 rows × 30 columns</p>\n",
       "</div>"
      ],
      "text/plain": [
       "  sigla_uf_x  id_municipio  ano_x  mes  automovel  bonde  caminhao  \\\n",
       "0         AC       1200401   2010    1      37162      0      3172   \n",
       "1         AC       1200401   2010   10      40373      0      3309   \n",
       "2         AC       1200401   2010   11      40857      0      3318   \n",
       "3         AC       1200401   2010   12      41461      0      3343   \n",
       "4         AC       1200401   2010    2      37475      0      3183   \n",
       "5         AC       1200401   2010    3      38050      0      3200   \n",
       "6         AC       1200401   2010    4      38375      0      3216   \n",
       "7         AC       1200401   2010    5      38635      0      3234   \n",
       "8         AC       1200401   2010    6      38949      0      3250   \n",
       "9         AC       1200401   2010    7      39256      0      3257   \n",
       "\n",
       "   caminhaotrator  caminhonete  camioneta  ...  tratoresteira  tratorrodas  \\\n",
       "0             316         9431       1954  ...              1            6   \n",
       "1             338        10287       2072  ...              1           35   \n",
       "2             340        10394       2104  ...              1           35   \n",
       "3             347        10550       2133  ...              1           44   \n",
       "4             320         9515       1950  ...              1            7   \n",
       "5             324         9655       1960  ...              1            9   \n",
       "6             328         9758       1977  ...              1           17   \n",
       "7             329         9847       1995  ...              1           22   \n",
       "8             329         9937       2010  ...              1           23   \n",
       "9             331        10025       2014  ...              1           26   \n",
       "\n",
       "   triciclo  utilitario  chassiplataforma   total  ano_y  sigla_uf_y  \\\n",
       "0       329           0                10   94587   2010          AC   \n",
       "1       412           0                10  104852   2010          AC   \n",
       "2       420           0                10  106155   2010          AC   \n",
       "3       439           0                10  107627   2010          AC   \n",
       "4       336           0                12   95434   2010          AC   \n",
       "5       342           0                12   96829   2010          AC   \n",
       "6       355           0                12   97883   2010          AC   \n",
       "7       371           0                12   98910   2010          AC   \n",
       "8       380           0                12  100065   2010          AC   \n",
       "9       385           0                10  101215   2010          AC   \n",
       "\n",
       "   tempo_medio_deslocamento  prop_deslocamento_acima_1_hora  \n",
       "0                        26                             5.0  \n",
       "1                        26                             5.0  \n",
       "2                        26                             5.0  \n",
       "3                        26                             5.0  \n",
       "4                        26                             5.0  \n",
       "5                        26                             5.0  \n",
       "6                        26                             5.0  \n",
       "7                        26                             5.0  \n",
       "8                        26                             5.0  \n",
       "9                        26                             5.0  \n",
       "\n",
       "[10 rows x 30 columns]"
      ]
     },
     "execution_count": 171,
     "metadata": {},
     "output_type": "execute_result"
    }
   ],
   "source": [
    "# 10 primeiros dados da DF principal:\n",
    "DF.head(10)"
   ]
  },
  {
   "cell_type": "code",
   "execution_count": 59,
   "id": "d3c440d0",
   "metadata": {},
   "outputs": [
    {
     "data": {
      "text/plain": [
       "(2724, 30)"
      ]
     },
     "execution_count": 59,
     "metadata": {},
     "output_type": "execute_result"
    }
   ],
   "source": [
    "#Tamanho da tabela após merge:\n",
    "DF.shape"
   ]
  },
  {
   "cell_type": "code",
   "execution_count": 225,
   "id": "7395144d",
   "metadata": {},
   "outputs": [
    {
     "data": {
      "text/plain": [
       "SP    468\n",
       "MG    456\n",
       "GO    360\n",
       "PR    348\n",
       "RJ    252\n",
       "CE    228\n",
       "PE    180\n",
       "BA    156\n",
       "PA     60\n",
       "PB     12\n",
       "RN     12\n",
       "RO     12\n",
       "PI     12\n",
       "AC     12\n",
       "MA     12\n",
       "MT     12\n",
       "RS     12\n",
       "RR     12\n",
       "AM     12\n",
       "SE     12\n",
       "AL     12\n",
       "MS     12\n",
       "ES     12\n",
       "TO     12\n",
       "DF     12\n",
       "AP     12\n",
       "SC     12\n",
       "Name: sigla_uf_x, dtype: int64"
      ]
     },
     "execution_count": 225,
     "metadata": {},
     "output_type": "execute_result"
    }
   ],
   "source": [
    "# Pegamos a DF principal e contamos quantas vezes aparecem os estados brasileiros\n",
    "DF['sigla_uf_x'].value_counts()"
   ]
  },
  {
   "cell_type": "code",
   "execution_count": 334,
   "id": "b5c7ad98",
   "metadata": {},
   "outputs": [],
   "source": [
    "#Somando todos os tipos de frotas para realizar a análise a respeito do caminho do investimento no questio mobilidade urbana\n",
    "automovel = DF[\"automovel\"].sum()                          \n",
    "bonde = DF[\"bonde\"].sum()                              \n",
    "caminhao = DF[\"caminhao\"].sum()                           \n",
    "caminhaotrator = DF[\"caminhaotrator\"].sum()\n",
    "caminhonete = DF[\"caminhonete\"].sum()                      \n",
    "camioneta = DF[\"camioneta\"].sum()                          \n",
    "ciclomotor = DF[\"ciclomotor\"].sum()                         \n",
    "microonibus  = DF[\"microonibus\"].sum()                       \n",
    "motocicleta = DF[\"motocicleta\"].sum()                        \n",
    "motoneta   = DF[\"motoneta\"].sum()                         \n",
    "onibus = DF[\"onibus\"].sum()                             \n",
    "quadriciclo   = DF[\"quadriciclo\"].sum()                      \n",
    "reboque   = DF[\"reboque\"].sum()                          \n",
    "semireboque = DF[\"semireboque\"].sum()                        \n",
    "sidecar= DF[\"sidecar\"].sum()                             \n",
    "outros = DF[\"outros\"].sum()                             \n",
    "tratoresteira = DF[\"tratoresteira\"].sum()                      \n",
    "tratorrodas = DF[\"tratorrodas\"].sum()                        \n",
    "triciclo = DF[\"triciclo\"].sum()                         \n",
    "utilitario  = DF[\"utilitario\"].sum()                        \n",
    "chassiplataforma = DF[\"chassiplataforma\"].sum()"
   ]
  },
  {
   "cell_type": "code",
   "execution_count": 344,
   "id": "6c248906",
   "metadata": {},
   "outputs": [],
   "source": [
    "#Criando o dataframe com as variáveis anteriores para podermos posteriormente plotar um gráfico\n",
    "brasil = {\n",
    "    'Frotas': ['automovel', 'bonde', 'caminhao', 'caminhao', 'caminhonete', 'camioneta', 'ciclomotor', 'microonibus',\n",
    "           'motocicleta','motoneta' ,'onibus', 'quadriciclo', 'reboque', 'semireboque', 'sidecar', 'outros', 'tratoresteira', \n",
    "           'tratorrodas', 'triciclo', 'utilitario', 'chassiplataforma'],\n",
    "    \n",
    "    'Quantidade': [automovel, bonde, caminhao, caminhao, caminhonete, camioneta, ciclomotor, microonibus,\n",
    "           motocicleta,motoneta ,onibus, quadriciclo, reboque, semireboque, sidecar, outros, tratoresteira, \n",
    "           tratorrodas, triciclo, utilitario, chassiplataforma]\n",
    "            }\n",
    "brasil_df = pd.DataFrame(brasil)"
   ]
  },
  {
   "cell_type": "code",
   "execution_count": 351,
   "id": "28dc0cfb",
   "metadata": {},
   "outputs": [
    {
     "data": {
      "text/plain": [
       "<AxesSubplot:title={'center':'Distribuição de frotas no Brasil'}, ylabel='Frotas'>"
      ]
     },
     "execution_count": 351,
     "metadata": {},
     "output_type": "execute_result"
    },
    {
     "data": {
      "image/png": "[encoded data removed]",
      "text/plain": [
       "<Figure size 720x720 with 1 Axes>"
      ]
     },
     "metadata": {
      "needs_background": "light"
     },
     "output_type": "display_data"
    }
   ],
   "source": [
    "brasil_df.groupby(by='Frotas')['Quantidade'].sum().sort_values(axis=0, ascending=True).plot(kind='barh', \n",
    "                                                   fontsize = 12,\n",
    "                                                   figsize=(10,10),\n",
    "                                                   width=0.6,\n",
    "                                                   color = ['#5C7B94'],\n",
    "                                                   title=\"Distribuição de frotas no Brasil\",\n",
    "                                                   legend=False,\n",
    "                                                   )\n",
    "# Falar sobre a quantidade de automóveis(histórico do brasil), mencionar a respeito dos caminhões, que influenciam muito nossa\n",
    "# economia .Possível menção das motocicletas (dados sobre onibus bugados)."
   ]
  },
  {
   "cell_type": "code",
   "execution_count": 352,
   "id": "84c94fe8",
   "metadata": {},
   "outputs": [
    {
     "data": {
      "text/plain": [
       "sigla_uf_x\n",
       "SP    81501476\n",
       "RJ    28215016\n",
       "MG    16305547\n",
       "PR    14787546\n",
       "DF    10724272\n",
       "GO     6958278\n",
       "PE     6507913\n",
       "BA     6274363\n",
       "RS     6045072\n",
       "CE     5791828\n",
       "AM     2903068\n",
       "PA     2513635\n",
       "MS     2334724\n",
       "SC     2115571\n",
       "RN     1991614\n",
       "MT     1658111\n",
       "MA     1650553\n",
       "PB     1617089\n",
       "AL     1523535\n",
       "PI     1502229\n",
       "SE     1489410\n",
       "ES     1315994\n",
       "RO      777014\n",
       "TO      518225\n",
       "AP      494731\n",
       "AC      470305\n",
       "RR      430996\n",
       "Name: automovel, dtype: int64"
      ]
     },
     "execution_count": 352,
     "metadata": {},
     "output_type": "execute_result"
    }
   ],
   "source": [
    "#Agrupamos a quantidade de automóveis para cada estado brasileiro\n",
    "DF.groupby(by='sigla_uf_x')['automovel'].sum().sort_values(axis=0, ascending=False)"
   ]
  },
  {
   "cell_type": "code",
   "execution_count": 340,
   "id": "cf940453",
   "metadata": {},
   "outputs": [
    {
     "data": {
      "text/plain": [
       "<AxesSubplot:title={'center':'Automóvel por UF'}, ylabel='sigla_uf_x'>"
      ]
     },
     "execution_count": 340,
     "metadata": {},
     "output_type": "execute_result"
    },
    {
     "data": {
      "image/png": "[encoded data removed]",
      "text/plain": [
       "<Figure size 720x720 with 1 Axes>"
      ]
     },
     "metadata": {
      "needs_background": "light"
     },
     "output_type": "display_data"
    }
   ],
   "source": [
    "#Gráfico do agrupamento\n",
    "DF.groupby(by='sigla_uf_x')['automovel'].sum().sort_values(axis=0, ascending=True).plot(kind='barh', \n",
    "                                                   fontsize = 12,\n",
    "                                                   figsize=(10,10),\n",
    "                                                   width=0.6,\n",
    "                                                   color = ['#5C7B94'],\n",
    "                                                   title=\"Automóvel por UF\",\n",
    "                                                   legend=False,\n",
    "                                                   )"
   ]
  },
  {
   "cell_type": "code",
   "execution_count": 185,
   "id": "48b21614",
   "metadata": {},
   "outputs": [
    {
     "name": "stderr",
     "output_type": "stream",
     "text": [
      "<ipython-input-185-15d728c6b095>:4: FutureWarning: Indexing with multiple keys (implicitly converted to a tuple of keys) will be deprecated, use a list instead.\n",
      "  DF.groupby(by='sigla_uf_x')['tempo_medio_deslocamento','automovel'].mean().round(2).sort_values(by='automovel', axis=0, ascending=False)\n"
     ]
    },
    {
     "data": {
      "text/html": [
       "<div>\n",
       "<style scoped>\n",
       "    .dataframe tbody tr th:only-of-type {\n",
       "        vertical-align: middle;\n",
       "    }\n",
       "\n",
       "    .dataframe tbody tr th {\n",
       "        vertical-align: top;\n",
       "    }\n",
       "\n",
       "    .dataframe thead th {\n",
       "        text-align: right;\n",
       "    }\n",
       "</style>\n",
       "<table border=\"1\" class=\"dataframe\">\n",
       "  <thead>\n",
       "    <tr style=\"text-align: right;\">\n",
       "      <th></th>\n",
       "      <th>tempo_medio_deslocamento</th>\n",
       "      <th>automovel</th>\n",
       "    </tr>\n",
       "    <tr>\n",
       "      <th>sigla_uf_x</th>\n",
       "      <th></th>\n",
       "      <th></th>\n",
       "    </tr>\n",
       "  </thead>\n",
       "  <tbody>\n",
       "    <tr>\n",
       "      <th>DF</th>\n",
       "      <td>39.00</td>\n",
       "      <td>893689.33</td>\n",
       "    </tr>\n",
       "    <tr>\n",
       "      <th>RS</th>\n",
       "      <td>34.00</td>\n",
       "      <td>503756.00</td>\n",
       "    </tr>\n",
       "    <tr>\n",
       "      <th>AM</th>\n",
       "      <td>41.00</td>\n",
       "      <td>241922.33</td>\n",
       "    </tr>\n",
       "    <tr>\n",
       "      <th>MS</th>\n",
       "      <td>30.00</td>\n",
       "      <td>194560.33</td>\n",
       "    </tr>\n",
       "    <tr>\n",
       "      <th>SC</th>\n",
       "      <td>29.00</td>\n",
       "      <td>176297.58</td>\n",
       "    </tr>\n",
       "    <tr>\n",
       "      <th>SP</th>\n",
       "      <td>44.51</td>\n",
       "      <td>174148.45</td>\n",
       "    </tr>\n",
       "    <tr>\n",
       "      <th>RN</th>\n",
       "      <td>32.00</td>\n",
       "      <td>165967.83</td>\n",
       "    </tr>\n",
       "    <tr>\n",
       "      <th>MT</th>\n",
       "      <td>31.00</td>\n",
       "      <td>138175.92</td>\n",
       "    </tr>\n",
       "    <tr>\n",
       "      <th>MA</th>\n",
       "      <td>38.00</td>\n",
       "      <td>137546.08</td>\n",
       "    </tr>\n",
       "    <tr>\n",
       "      <th>PB</th>\n",
       "      <td>30.00</td>\n",
       "      <td>134757.42</td>\n",
       "    </tr>\n",
       "    <tr>\n",
       "      <th>AL</th>\n",
       "      <td>36.00</td>\n",
       "      <td>126961.25</td>\n",
       "    </tr>\n",
       "    <tr>\n",
       "      <th>PI</th>\n",
       "      <td>28.00</td>\n",
       "      <td>125185.75</td>\n",
       "    </tr>\n",
       "    <tr>\n",
       "      <th>SE</th>\n",
       "      <td>31.00</td>\n",
       "      <td>124117.50</td>\n",
       "    </tr>\n",
       "    <tr>\n",
       "      <th>RJ</th>\n",
       "      <td>45.67</td>\n",
       "      <td>111964.35</td>\n",
       "    </tr>\n",
       "    <tr>\n",
       "      <th>ES</th>\n",
       "      <td>28.00</td>\n",
       "      <td>109666.17</td>\n",
       "    </tr>\n",
       "    <tr>\n",
       "      <th>RO</th>\n",
       "      <td>28.00</td>\n",
       "      <td>64751.17</td>\n",
       "    </tr>\n",
       "    <tr>\n",
       "      <th>TO</th>\n",
       "      <td>26.00</td>\n",
       "      <td>43185.42</td>\n",
       "    </tr>\n",
       "    <tr>\n",
       "      <th>PR</th>\n",
       "      <td>33.59</td>\n",
       "      <td>42492.95</td>\n",
       "    </tr>\n",
       "    <tr>\n",
       "      <th>PA</th>\n",
       "      <td>37.00</td>\n",
       "      <td>41893.92</td>\n",
       "    </tr>\n",
       "    <tr>\n",
       "      <th>AP</th>\n",
       "      <td>24.00</td>\n",
       "      <td>41227.58</td>\n",
       "    </tr>\n",
       "    <tr>\n",
       "      <th>BA</th>\n",
       "      <td>31.31</td>\n",
       "      <td>40220.28</td>\n",
       "    </tr>\n",
       "    <tr>\n",
       "      <th>AC</th>\n",
       "      <td>26.00</td>\n",
       "      <td>39192.08</td>\n",
       "    </tr>\n",
       "    <tr>\n",
       "      <th>PE</th>\n",
       "      <td>39.07</td>\n",
       "      <td>36155.07</td>\n",
       "    </tr>\n",
       "    <tr>\n",
       "      <th>RR</th>\n",
       "      <td>33.00</td>\n",
       "      <td>35916.33</td>\n",
       "    </tr>\n",
       "    <tr>\n",
       "      <th>MG</th>\n",
       "      <td>33.95</td>\n",
       "      <td>35757.78</td>\n",
       "    </tr>\n",
       "    <tr>\n",
       "      <th>CE</th>\n",
       "      <td>25.63</td>\n",
       "      <td>25402.75</td>\n",
       "    </tr>\n",
       "    <tr>\n",
       "      <th>GO</th>\n",
       "      <td>30.13</td>\n",
       "      <td>19328.55</td>\n",
       "    </tr>\n",
       "  </tbody>\n",
       "</table>\n",
       "</div>"
      ],
      "text/plain": [
       "            tempo_medio_deslocamento  automovel\n",
       "sigla_uf_x                                     \n",
       "DF                             39.00  893689.33\n",
       "RS                             34.00  503756.00\n",
       "AM                             41.00  241922.33\n",
       "MS                             30.00  194560.33\n",
       "SC                             29.00  176297.58\n",
       "SP                             44.51  174148.45\n",
       "RN                             32.00  165967.83\n",
       "MT                             31.00  138175.92\n",
       "MA                             38.00  137546.08\n",
       "PB                             30.00  134757.42\n",
       "AL                             36.00  126961.25\n",
       "PI                             28.00  125185.75\n",
       "SE                             31.00  124117.50\n",
       "RJ                             45.67  111964.35\n",
       "ES                             28.00  109666.17\n",
       "RO                             28.00   64751.17\n",
       "TO                             26.00   43185.42\n",
       "PR                             33.59   42492.95\n",
       "PA                             37.00   41893.92\n",
       "AP                             24.00   41227.58\n",
       "BA                             31.31   40220.28\n",
       "AC                             26.00   39192.08\n",
       "PE                             39.07   36155.07\n",
       "RR                             33.00   35916.33\n",
       "MG                             33.95   35757.78\n",
       "CE                             25.63   25402.75\n",
       "GO                             30.13   19328.55"
      ]
     },
     "execution_count": 185,
     "metadata": {},
     "output_type": "execute_result"
    }
   ],
   "source": [
    "# Agrupando os valores de tempo medio de deslocamento de cada estado pela\n",
    "# média da quantidade de automóveis por cidade de cada estado\n",
    "\n",
    "DF.groupby(by='sigla_uf_x')['tempo_medio_deslocamento','automovel'].mean().round(2).sort_values(by='automovel', axis=0, ascending=False)"
   ]
  },
  {
   "cell_type": "code",
   "execution_count": 130,
   "id": "08ffb7e0",
   "metadata": {},
   "outputs": [
    {
     "name": "stderr",
     "output_type": "stream",
     "text": [
      "<ipython-input-130-205117e850e1>:1: FutureWarning: Indexing with multiple keys (implicitly converted to a tuple of keys) will be deprecated, use a list instead.\n",
      "  DF.groupby(by='sigla_uf_x')['tempo_medio_deslocamento','automovel'].mean().sort_values(by='automovel', axis=0, ascending=True).plot(kind='barh',\n"
     ]
    },
    {
     "data": {
      "text/plain": [
       "<AxesSubplot:title={'center':'Automóvel por UF'}, ylabel='sigla_uf_x'>"
      ]
     },
     "execution_count": 130,
     "metadata": {},
     "output_type": "execute_result"
    },
    {
     "data": {
      "image/png": "[encoded data removed]",
      "text/plain": [
       "<Figure size 720x720 with 1 Axes>"
      ]
     },
     "metadata": {
      "needs_background": "light"
     },
     "output_type": "display_data"
    }
   ],
   "source": [
    "DF.groupby(by='sigla_uf_x')['tempo_medio_deslocamento','automovel'].mean().sort_values(by='automovel', axis=0, ascending=True).plot(kind='barh', \n",
    "                                                   fontsize = 10,\n",
    "                                                   figsize=(10,10),\n",
    "                                                   width=0.6,\n",
    "                                                   color = ['#5C7B94'],\n",
    "                                                   title=\"Automóvel por UF\",\n",
    "                                                   legend=False,\n",
    "                                                   )"
   ]
  },
  {
   "cell_type": "code",
   "execution_count": 173,
   "id": "363335b7",
   "metadata": {},
   "outputs": [
    {
     "data": {
      "text/plain": [
       "sigla_uf_x\n",
       "AC      74741\n",
       "AL      26067\n",
       "AM      97620\n",
       "AP      56525\n",
       "BA     104245\n",
       "CE      85256\n",
       "DF     127498\n",
       "ES      28432\n",
       "GO     551853\n",
       "MA      42064\n",
       "MG     270995\n",
       "MS     245105\n",
       "MT     107972\n",
       "PA     116338\n",
       "PB      36498\n",
       "PE      71935\n",
       "PI     121867\n",
       "PR     448646\n",
       "RJ     590593\n",
       "RN      40314\n",
       "RO     112901\n",
       "RR     122147\n",
       "RS      85671\n",
       "SC      66314\n",
       "SE      66034\n",
       "SP    1737995\n",
       "TO     131585\n",
       "Name: motocicleta, dtype: int64"
      ]
     },
     "execution_count": 173,
     "metadata": {},
     "output_type": "execute_result"
    }
   ],
   "source": [
    "DF.groupby(by='sigla_uf_x')['motocicleta'].sum()"
   ]
  },
  {
   "cell_type": "code",
   "execution_count": 222,
   "id": "53e2ff0a",
   "metadata": {},
   "outputs": [
    {
     "data": {
      "text/plain": [
       "<AxesSubplot:title={'center':'Mtocicleta por UF'}, ylabel='sigla_uf_x'>"
      ]
     },
     "execution_count": 222,
     "metadata": {},
     "output_type": "execute_result"
    },
    {
     "data": {
      "image/png": "[encoded data removed]",
      "text/plain": [
       "<Figure size 720x720 with 1 Axes>"
      ]
     },
     "metadata": {
      "needs_background": "light"
     },
     "output_type": "display_data"
    }
   ],
   "source": [
    "#Gráfico do agrupamento\n",
    "DF.groupby(by='sigla_uf_x')['motocicleta'].sum().sort_values(axis=0, ascending=True).plot(kind='barh', \n",
    "                                                   fontsize = 12,\n",
    "                                                   figsize=(10,10),\n",
    "                                                   width=0.6,\n",
    "                                                   color = ['#5C7B94'],\n",
    "                                                   title=\"Mtocicleta por UF\",\n",
    "                                                   legend=False,\n",
    "                                                   )"
   ]
  },
  {
   "cell_type": "code",
   "execution_count": 203,
   "id": "fbb323b8",
   "metadata": {},
   "outputs": [
    {
     "data": {
      "text/plain": [
       "sigla_uf_x\n",
       "PE    90.47\n",
       "DF    84.11\n",
       "RS    70.56\n",
       "CE    67.93\n",
       "BA    60.19\n",
       "MG    60.17\n",
       "AL    58.45\n",
       "RN    49.40\n",
       "RJ    47.77\n",
       "SP    46.89\n",
       "ES    46.29\n",
       "PB    44.31\n",
       "MA    39.24\n",
       "PR    32.96\n",
       "SC    31.90\n",
       "AM    29.74\n",
       "SE    22.56\n",
       "PA    21.61\n",
       "MT    15.36\n",
       "GO    12.61\n",
       "PI    12.33\n",
       "MS     9.53\n",
       "AP     8.75\n",
       "RO     6.88\n",
       "AC     6.29\n",
       "TO     3.94\n",
       "RR     3.53\n",
       "dtype: float64"
      ]
     },
     "execution_count": 203,
     "metadata": {},
     "output_type": "execute_result"
    }
   ],
   "source": [
    "#Tabela que mostra a quantidade de carros em proporção para 1 moto\n",
    "motos_soma = DF.groupby(by='sigla_uf_x')['motocicleta'].sum()\n",
    "carros_soma = DF.groupby(by='sigla_uf_x')['automovel'].sum()\n",
    "media_carros_por_motos = carros_soma / motos_soma \n",
    "media_carros_por_motos.round(2).sort_values(axis=0, ascending=False)"
   ]
  },
  {
   "cell_type": "code",
   "execution_count": 353,
   "id": "522d1ece",
   "metadata": {},
   "outputs": [
    {
     "data": {
      "text/plain": [
       "<AxesSubplot:title={'center':'Média de Carros por moto por UF'}, ylabel='sigla_uf_x'>"
      ]
     },
     "execution_count": 353,
     "metadata": {},
     "output_type": "execute_result"
    },
    {
     "data": {
      "image/png": "[encoded data removed]",
      "text/plain": [
       "<Figure size 720x720 with 1 Axes>"
      ]
     },
     "metadata": {
      "needs_background": "light"
     },
     "output_type": "display_data"
    }
   ],
   "source": [
    "#Gráfico que mostra a quantidade de carros em proporção para 1 moto\n",
    "media_carros_por_motos.round(2).sort_values(axis=0, ascending=True).plot(kind='barh', \n",
    "                                                   fontsize = 12,\n",
    "                                                   figsize=(10,10),\n",
    "                                                   width=0.6,\n",
    "                                                   color = ['#5C7B94'],\n",
    "                                                   title=\"Média de Carros por moto por UF\",\n",
    "                                                   legend=False,\n",
    "                                                   )"
   ]
  },
  {
   "cell_type": "code",
   "execution_count": 224,
   "id": "1156eb9f",
   "metadata": {},
   "outputs": [
    {
     "data": {
      "text/plain": [
       "sigla_uf_x\n",
       "RJ    45.67\n",
       "SP    44.51\n",
       "AM    41.00\n",
       "PE    39.07\n",
       "DF    39.00\n",
       "MA    38.00\n",
       "PA    37.00\n",
       "AL    36.00\n",
       "RS    34.00\n",
       "MG    33.95\n",
       "PR    33.59\n",
       "RR    33.00\n",
       "RN    32.00\n",
       "BA    31.31\n",
       "MT    31.00\n",
       "SE    31.00\n",
       "GO    30.13\n",
       "PB    30.00\n",
       "MS    30.00\n",
       "SC    29.00\n",
       "ES    28.00\n",
       "PI    28.00\n",
       "RO    28.00\n",
       "AC    26.00\n",
       "TO    26.00\n",
       "CE    25.63\n",
       "AP    24.00\n",
       "Name: tempo_medio_deslocamento, dtype: float64"
      ]
     },
     "execution_count": 224,
     "metadata": {},
     "output_type": "execute_result"
    }
   ],
   "source": [
    "#Tabela comparando média do tempo gasto em deslocamento com a proporção de carros por moto\n",
    "#Quanto maior o valor da proporção maior será o tempo de deslocamento, pois os automoveis ocupam mais espaços nas rodovias\n",
    "DF.groupby(by='sigla_uf_x')['tempo_medio_deslocamento'].mean().round(2).sort_values(axis=0, ascending=False)"
   ]
  }
 ],
 "metadata": {
  "kernelspec": {
   "display_name": "Python 3",
   "language": "python",
   "name": "python3"
  },
  "language_info": {
   "codemirror_mode": {
    "name": "ipython",
    "version": 3
   },
   "file_extension": ".py",
   "mimetype": "text/x-python",
   "name": "python",
   "nbconvert_exporter": "python",
   "pygments_lexer": "ipython3",
   "version": "3.9.12"
  }
 },
 "nbformat": 4,
 "nbformat_minor": 5
}
